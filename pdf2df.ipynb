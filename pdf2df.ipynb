{
 "cells": [
  {
   "cell_type": "code",
   "execution_count": 32,
   "metadata": {},
   "outputs": [
    {
     "name": "stdout",
     "output_type": "stream",
     "text": [
      "Collecting PyPDF2\n",
      "  Downloading pypdf2-3.0.1-py3-none-any.whl (232 kB)\n"
     ]
    },
    {
     "name": "stderr",
     "output_type": "stream",
     "text": [
      "\n",
      "[notice] A new release of pip available: 22.2.2 -> 24.0\n",
      "[notice] To update, run: python.exe -m pip install --upgrade pip\n"
     ]
    },
    {
     "name": "stdout",
     "output_type": "stream",
     "text": [
      "     ------------------------------------- 232.6/232.6 kB 13.9 MB/s eta 0:00:00\n",
      "Requirement already satisfied: typing_extensions>=3.10.0.0 in c:\\users\\asus\\anaconda3\\lib\\site-packages (from PyPDF2) (4.1.1)\n",
      "Installing collected packages: PyPDF2\n",
      "Successfully installed PyPDF2-3.0.1\n"
     ]
    }
   ],
   "source": [
    "!python -m pip install PyPDF2"
   ]
  },
  {
   "cell_type": "code",
   "execution_count": 4,
   "metadata": {},
   "outputs": [
    {
     "name": "stdout",
     "output_type": "stream",
     "text": [
      "Collecting python-docx\n",
      "  Downloading python_docx-1.1.0-py3-none-any.whl (239 kB)\n",
      "     -------------------------------------- 239.6/239.6 kB 7.2 MB/s eta 0:00:00\n",
      "Requirement already satisfied: typing-extensions in c:\\users\\asus\\anaconda3\\lib\\site-packages (from python-docx) (4.1.1)\n",
      "Requirement already satisfied: lxml>=3.1.0 in c:\\users\\asus\\anaconda3\\lib\\site-packages (from python-docx) (4.8.0)\n",
      "Installing collected packages: python-docx\n",
      "Successfully installed python-docx-1.1.0\n"
     ]
    },
    {
     "name": "stderr",
     "output_type": "stream",
     "text": [
      "\n",
      "[notice] A new release of pip available: 22.2.2 -> 24.0\n",
      "[notice] To update, run: python.exe -m pip install --upgrade pip\n"
     ]
    }
   ],
   "source": [
    "!pip install python-docx"
   ]
  },
  {
   "cell_type": "code",
   "execution_count": 5,
   "metadata": {},
   "outputs": [],
   "source": [
    "from docx import Document"
   ]
  },
  {
   "cell_type": "code",
   "execution_count": 13,
   "metadata": {},
   "outputs": [
    {
     "data": {
      "text/plain": [
       "1138"
      ]
     },
     "execution_count": 13,
     "metadata": {},
     "output_type": "execute_result"
    }
   ],
   "source": [
    "len(doc.paragraphs)"
   ]
  },
  {
   "cell_type": "code",
   "execution_count": 118,
   "metadata": {},
   "outputs": [
    {
     "name": "stdout",
     "output_type": "stream",
     "text": [
      "     Paragraph\n",
      "0             \n",
      "1             \n",
      "2             \n",
      "3             \n",
      "4             \n",
      "...        ...\n",
      "1489          \n",
      "1490          \n",
      "1491          \n",
      "1492          \n",
      "1493          \n",
      "\n",
      "[1494 rows x 1 columns]\n"
     ]
    }
   ],
   "source": [
    "from docx import Document\n",
    "import pandas as pd\n",
    "\n",
    "def read_word_paragraphs(file_path):\n",
    "    # Word 문서 열기\n",
    "    doc = Document(file_path)\n",
    "    \n",
    "    # 문단들을 담을 리스트 생성\n",
    "    paragraphs = []\n",
    "    \n",
    "    # 문단을 리스트에 추가\n",
    "    for paragraph in doc.paragraphs:\n",
    "        paragraphs.append(paragraph.text)\n",
    "    \n",
    "    return paragraphs\n",
    "\n",
    "def create_dataframe_from_paragraphs(paragraphs):\n",
    "    # 데이터프레임 생성\n",
    "    df = pd.DataFrame({'Paragraph': paragraphs})\n",
    "    return df\n",
    "\n",
    "# Word 문서 경로\n",
    "word_file = r'C:\\Users\\ASUS\\Desktop\\reminder\\데이콘\\doc_data\\9.docx'\n",
    "\n",
    "# 문단 읽기\n",
    "paragraphs = read_word_paragraphs(word_file)\n",
    "\n",
    "# 데이터프레임 생성\n",
    "df = create_dataframe_from_paragraphs(paragraphs)\n",
    "\n",
    "# 결과 출력\n",
    "print(df)\n"
   ]
  },
  {
   "cell_type": "code",
   "execution_count": 119,
   "metadata": {},
   "outputs": [
    {
     "name": "stdout",
     "output_type": "stream",
     "text": [
      "     Paragraph\n",
      "0             \n",
      "1             \n",
      "2             \n",
      "3             \n",
      "4             \n",
      "...        ...\n",
      "1489          \n",
      "1490          \n",
      "1491          \n",
      "1492          \n",
      "1493          \n",
      "\n",
      "[1494 rows x 1 columns]\n",
      "     Paragraph\n",
      "0             \n",
      "1             \n",
      "2             \n",
      "3             \n",
      "4             \n",
      "...        ...\n",
      "1489          \n",
      "1490          \n",
      "1491          \n",
      "1492          \n",
      "1493          \n",
      "\n",
      "[1494 rows x 1 columns]\n"
     ]
    }
   ],
   "source": [
    "# 공백 제거 함수 정의\n",
    "def remove_whitespace(text):\n",
    "    return text.replace(\" \", \"\")\n",
    "\n",
    "# 각 행에 공백 제거 함수 적용\n",
    "df['Paragraph'] = df['Paragraph'].apply(remove_whitespace)\n",
    "\n",
    "# 결과 출력\n",
    "print(df)\n",
    "\n",
    "\n",
    "# null 값의 행 제거\n",
    "df = df.dropna()\n",
    "\n",
    "# 결과 출력\n",
    "print(df)\n"
   ]
  },
  {
   "cell_type": "code",
   "execution_count": 120,
   "metadata": {},
   "outputs": [
    {
     "name": "stdout",
     "output_type": "stream",
     "text": [
      "                                              Paragraph\n",
      "9          저작자표시-비영리-변경금지2.0대한민국이용자는아래의조건을따르는경우에한하여자유롭게\n",
      "10         이저작물을복제,배포,전송,전시,공연및방송할수있습니다.다음과같은조건을따라야합니다:\n",
      "12                              저작자표시.귀하는원저작자를표시하여야합니다.\n",
      "16                          비영리.귀하는이저작물을영리목적으로이용할수없습니다.\n",
      "20                        변경금지.귀하는이저작물을개작,변형또는가공할수없습니다.\n",
      "...                                                 ...\n",
      "1473  InaddJUJon,UhenumberoGcasesoGsUandardGSaHmenUa...\n",
      "1478  deGeDUdeUeDUJonGPrJnUernalGJnJshJnHmaUerJals.T...\n",
      "1479  ThereGPre,UhJssUudZhasaQlanUocoveradeUeDUJonmo...\n",
      "1480  KudHedUhesuJUabJlJUZoGUheesUablJshedsZsUemmode...\n",
      "1481  LaUer,JUJsnecessarZUoconducUresearchJnorderUos...\n",
      "\n",
      "[389 rows x 1 columns]\n"
     ]
    }
   ],
   "source": [
    "# 모든 공백을 제거한 새로운 열 생성\n",
    "df['NoWhitespace'] = df['Paragraph'].str.replace(' ', '')\n",
    "\n",
    "# 모든 문자열이 공백인 행 삭제\n",
    "df = df[df['NoWhitespace'] != '']\n",
    "\n",
    "# 공백 제거 열 삭제\n",
    "df = df.drop(columns=['NoWhitespace'])\n",
    "\n",
    "# 결과 출력\n",
    "print(df)\n"
   ]
  },
  {
   "cell_type": "code",
   "execution_count": 121,
   "metadata": {},
   "outputs": [],
   "source": [
    "df.to_excel('9docx연습.xlsx',index=False)"
   ]
  },
  {
   "cell_type": "markdown",
   "metadata": {},
   "source": [
    "## pdf"
   ]
  },
  {
   "cell_type": "code",
   "execution_count": 34,
   "metadata": {},
   "outputs": [],
   "source": [
    "from PyPDF2 import PdfReader"
   ]
  },
  {
   "cell_type": "code",
   "execution_count": 77,
   "metadata": {},
   "outputs": [],
   "source": [
    "reader = PdfReader(r\"C:\\Users\\ASUS\\Desktop\\reminder\\데이콘\\doc_data\\6.pdf\")\n"
   ]
  },
  {
   "cell_type": "code",
   "execution_count": 92,
   "metadata": {},
   "outputs": [],
   "source": [
    "def text_extract(reader) :\n",
    "    text_all = []\n",
    "\n",
    "    for page in reader.pages:\n",
    "        text = page.extract_text()\n",
    "        text_all.append(text)\n",
    "        \n",
    "    return text_all"
   ]
  },
  {
   "cell_type": "code",
   "execution_count": 93,
   "metadata": {},
   "outputs": [],
   "source": [
    "textdic = {}\n",
    "for i in range(6,11):\n",
    "    reader = PdfReader(rf\"C:\\Users\\ASUS\\Desktop\\reminder\\데이콘\\doc_data\\{i}.pdf\")\n",
    "    text_all = text_extract(reader)\n",
    "    textdic[i] = text_all"
   ]
  },
  {
   "cell_type": "code",
   "execution_count": 110,
   "metadata": {},
   "outputs": [
    {
     "name": "stdout",
     "output_type": "stream",
     "text": [
      "pdfdf6\n",
      "                                                  text\n",
      "0    석사학위청구논문\\n2012학년도\\n공동주택에서하자담보책임과\\n하자보수보증책임에관한연...\n",
      "1    공동주택에서하자담보책임과\\n하자보수보증책임에관한연구\\nAStudyonDefectsL...\n",
      "2    공동주택에서하자담보책임과\\n하자보수보증책임에관한연구\\nAStudyonDefectsL...\n",
      "3    박영규의법학석사학위논문을인준함.\\n심사위원장 인\\n심사위원 인\\n심사위원 인\\n광운...\n",
      "4    - i -국문초록\\n공동주택에서하자담보책임과하자보수보증책임에관한연구\\n본논문은공동주...\n",
      "..                                                 ...\n",
      "126  - 111 -소2008.7.31.선고2005헌가16결정과관련하여”,외법논집\\n제33...\n",
      "127  - 112 -판례연구제22집,2011\\n이준형,“수급인의하자담보책임에관한연구”,박사...\n",
      "128  - 113 -대법원1995.11.10.선고94다22682,22699(반소)판결\\n대...\n",
      "129  - 114 -대법원2005.11.10.선고2004다37676판결\\n대법원2006.5...\n",
      "130  - 115 -□헌법재판소결정\\n헌법재판소2008.7.31.선고2005헌가16결정\\n...\n",
      "\n",
      "[131 rows x 1 columns]\n",
      "pdfdf7\n",
      "                                                 text\n",
      "0     \\n저작자표시-비영리-변경금지 2.0 대한민국 \\n이용자는 아래의 조건을 따르는...\n",
      "1   工學碩士學位論文\\n공동주택세대내부결로발생하자방지를위한\\n단열재시공개선방안에관한연구\\...\n",
      "2   工學碩士學位論文\\n공동주택세대내부결로발생하자방지를위한\\n단열재시공개선방안에관한연구\\...\n",
      "3   이論文을表鉉南의碩士學位論文으로認定함\\n2009年8月\\n主審: (인)\\n副審: (인)...\n",
      "4   - i -국문요약\\n공동주택은1960년과70년대를지나오면서공급되었으며1980년대이후...\n",
      "..                                                ...\n",
      "82  - 69 -3)세대내부환기덕트와파이프덕트조적조에면한벽면결로하자\\n조적벽에몰탈사춤불량...\n",
      "83  - 70 -제5장결론\\n최근공동주택의세대내부결로발생이증가하여거주자에게생활의불편\\n함...\n",
      "84  - 71 -생의원인은단열재의빈틈및누락과단열층파손이주를이루고있다.이\\n같은원인은건축담...\n",
      "85  - 72 -참고문헌\\n1.이흥식,공동주택에있어서의발코니단열결로에대한현장사례연구,\\n...\n",
      "86  - 73 -18.김광우외1인,공동주택에서의결로발생및대책\\n19.김동균,당사시공사례를...\n",
      "\n",
      "[87 rows x 1 columns]\n",
      "pdfdf8\n",
      "                                                 text\n",
      "0     \\n저작자표시-비영리-변경금지 2.0 대한민국 \\n이용자는 아래의 조건을 따르는...\n",
      "1   석사학위논문\\n공동주택의목질계바닥마감재의하자\\n유형분석및대책\\nAnalysisand...\n",
      "2   석사학위논문\\n공동주택의목질계바닥마감재의하자\\n유형분석및대책\\nAnalysisand...\n",
      "3                                                    \n",
      "4   요지\\n국내의경우1990년대들어와서그동안온돌난방시스템에대한내장재의\\n연구·개발이시작...\n",
      "5   제3장에서는공동주택에사용되는온돌용바닥마감재의하자유형을분\\n석하기위하여하자의유형및범위...\n",
      "6   으로인한하자가전체시공불량으로인한하자의약80%를차지하였\\n다.\\n(4)찍힘으로인한하자...\n",
      "7   목차\\n제 1 장  서   론······························...\n",
      "8   제 4 장 목질계 마루재의 하자·····························...\n",
      "9   그림목차\\n그림 2.1 주택용 바닥 마감재 시장의 분포 ···············...\n",
      "10  표목차\\n표 1.1 공동주택 마루하자 조사 현장의 개요················...\n",
      "11  - 1 -제1장서론\\n1.1연구의배경및목적\\n실내에서는신발을신지않고생활하는우리의주거...\n",
      "12  - 2 -분하여분석하여하자유형별하자최소화를위한대책을제시하였다.각시\\n공현장의개요는<...\n",
      "13  - 3 -제2장온돌용마루재\\n2.1마루재의보급및수급현황\\n“동판이부착된온돌마루재의전...\n",
      "14  - 4 -품질의원목에대한수요가급증하면서최근에는침엽수가78%로절대적인\\n우위를점유하고...\n",
      "15  - 5 -2.3온돌용마루재의종류\\n현장에서주로시공하는온돌용마루재는시공법과제품구조등에...\n",
      "16  - 6 -구분 강화마루 온돌마루 원목마루\\n시공법 클릭형 본드접착형 본드접착형\\n제...\n",
      "17  - 7 -제3장온돌용바닥마감재의하자\\n3.1하자의규정\\n건축공사에서하자란공사상의잘못...\n",
      "18  - 8 -자라함은구조물이지녀야할가장근본적인성능인구조안전에관한결함을\\n의미하며,마감에...\n",
      "19  - 9 -3.3하자의분류\\n3.3.1과실성하자와불가피성하자\\n철근콘크리트구조물에발생...\n",
      "20  - 10 -3.3.2하자의발생시기별분류\\n건설공사의단계를[그림3.1]과같이3단계로분...\n",
      "21  - 11 -ㆍ준공후부적절한구조변경또는고정하중의변화여부\\nㆍ점검및진단의실시여부\\nㆍ손...\n",
      "22  - 12 -3.4국내외하자관련규정\\n3.4.1한국\\n(1)주택법(46조1항)\\n공동...\n",
      "23  - 13 -관련\\n법규주택법 건설산업기본법\\n하자\\n분류17가지공종별분류 내력구조부...\n",
      "24  - 14 -중점적으로다루고있을뿐하자의구체적정의나내용,판정기준등에대한\\n명확한언급은없...\n",
      "25  - 15 -3.5온돌용마루재와하자\\n온돌용마루제조사인H사에A/S가접수된자료를살펴보면...\n",
      "26                - 16 -\\n　\\n[사진 3.1] 들뜸\\n[사진 3.2] 팽창\n",
      "27           - 17 -\\n　\\n[사진 3.3] 코킹 불량\\n　\\n[사진 3.4] 틈\n",
      "28           - 18 -\\n　\\n[사진 3.5] 단 차이\\n　\\n[사진 3.6] 변색\n",
      "29  - 19 -제4장목질계마루재의하자\\n4.1하자현황\\n표준시공에의한현장시공에도불구하고...\n",
      "30  - 20 -이가발생건수12건으로발생비율3.9%,이색이발생건수2건으로발생비율\\n0.8...\n",
      "31  - 21 -목질계바닥마감재가시공된위의4개현장총2457세대의마루에대한\\n하자보수접수건...\n",
      "32  - 22 -유형별 발생건수 발생비율(%)\\n찍힘 138 24.5\\n들뜸 82 14....\n",
      "33  - 23 -유형별 발생건수 발생비율(%)\\n코킹불량 95 30.6\\n찍힘,긁힘 81...\n",
      "34  - 24 -유형별 발생건수 발생비율(%)\\n들뜸 252 29.5\\n찍힘,긁힘 146...\n",
      "35  - 25 -유형별 발생건수 발생비율(%)\\n들뜸 135 34.5\\n찍힘,긁힘 94 ...\n",
      "36  - 26 -하자유형 발생건수 발생비율[%]\\n들뜸 494 23.2\\n찍힘,긁힘 45...\n",
      "37  010203040\\n0100200300400500\\n들뜸찍힘, 긁힘코킹불량마무리\\n...\n",
      "38  - 28 -4.2하자원인유형분석\\n4개현장에서수집한자료를바탕으로,접수된하자의유형을그...\n",
      "39  - 29 -대비한적절한대책을파악하여시공불량으로인한하자를최소화할필요가\\n있다.\\n시공...\n",
      "40                       - 30 -\\n[그림4.6]시공불량으로인한하자유형 \n",
      "41  - 31 -하자유형 발생원인 대책\\n들뜸•습기에의한길이팽창으로마루\\n들뜸\\n•벽체와...\n",
      "42  - 32 -(2)관리부주의\\n목질계바닥마감재하자에서시공불량으로인한하자다음으로높은비율...\n",
      "43  - 33 -\\n[그림4.7]관리부주의로인한하자유형\\n하자유형 발생원인 대책\\n찍힘•...\n",
      "44  - 34 -제5장결론\\n본논문에서는온돌용목질계바닥마감재가시공된총4곳의공동주택시\\n공...\n",
      "45  - 35 -(4)찍힘으로인한하자가전체관리부주의로인한하자의절반이상을\\n차지하였다.찍힘...\n",
      "46  - 36 -참고문헌\\n1.KSF3126치장목질마루판,기술표준원,2008\\n2.KSF...\n",
      "47  - 37 -Outline\\nIndomesticcase,theresearchandde...\n",
      "48  - 38 -Inchapter2,thecharacteristicsofflooringb...\n",
      "49  - 39 -thedefectswereproposed.\\n(1)Nowthattheoc...\n",
      "50  감사의글\\n사회생활첫발을건축과관련된일을하면서지식과경험이부족하여항상\\n지적갈증을느끼던...\n",
      "51                                           - 41 -\\n\n",
      "52                                                   \n",
      "pdfdf9\n",
      "                                                 text\n",
      "0     \\n저작자표시-비영리-변경금지 2.0 대한민국 \\n이용자는 아래의 조건을 따르는...\n",
      "1                                                    \n",
      "2                                                    \n",
      "3                                                    \n",
      "4                                             - i -\\n\n",
      "..                                                ...\n",
      "82                                           - 72 -\\n\n",
      "83                                  - 73 -\\n \\n \\n \\n\n",
      "84                            - 74 -\\n \\n \\n \\n \\n \\n\n",
      "85                                           - 75 -\\n\n",
      "86                                           - 76 -\\n\n",
      "\n",
      "[87 rows x 1 columns]\n",
      "pdfdf10\n",
      "                                                 text\n",
      "0   1. 서 론\\n1.1 연구의 배경 및 목적\\n국내 주택시장은 정부의 지속적인 주택공...\n",
      "1   Park, Hyun Jung ㆍEom, Yong Been ㆍJeong, U Jin ...\n",
      "2   A Study on Analysis of Defect Types and Measur...\n",
      "3   Park, Hyun Jung ㆍEom, Yong Been ㆍJeong, U Jin ...\n",
      "4   A Study on Analysis of Defect Types and Measur...\n",
      "5   Park, Hyun Jung ㆍEom, Yong Been ㆍJeong, U Jin ...\n",
      "6   A Study on Analysis of Defect Types and Measur...\n",
      "7   Park, Hyun Jung ㆍEom, Yong Been ㆍJeong, U Jin ...\n",
      "8   A Study on Analysis of Defect Types and Measur...\n",
      "9   Park, Hyun Jung ㆍEom, Yong Been ㆍJeong, U Jin ...\n",
      "10  A Study on Analysis of Defect Types and Measur...\n",
      "11  Park, Hyun Jung ㆍEom, Yong Been ㆍJeong, U Jin ...\n"
     ]
    }
   ],
   "source": [
    "pdfdfs = {}\n",
    "\n",
    "# 데이터프레임 생성 후 딕셔너리에 저장\n",
    "for i in range(6, 11):\n",
    "    pdfdfs[f'pdfdf{i}'] = pd.DataFrame(textdic[i], columns=['text'])\n",
    "\n",
    "# 딕셔너리에 저장된 데이터프레임 출력\n",
    "for key, value in pdfdfs.items():\n",
    "    print(key)\n",
    "    print(value)"
   ]
  },
  {
   "cell_type": "code",
   "execution_count": null,
   "metadata": {},
   "outputs": [],
   "source": [
    "# 모든 공백을 제거한 새로운 열 생성\n",
    "df['NoWhitespace'] = df['Paragraph'].str.replace(' ', '')\n",
    "\n",
    "# 모든 문자열이 공백인 행 삭제\n",
    "df = df[df['NoWhitespace'] != '']\n",
    "\n",
    "# 공백 제거 열 삭제\n",
    "df = df.drop(columns=['NoWhitespace'])\n",
    "\n",
    "# 결과 출력\n",
    "print(df)\n"
   ]
  },
  {
   "cell_type": "code",
   "execution_count": 111,
   "metadata": {},
   "outputs": [],
   "source": [
    "def remove_whitespace(text):\n",
    "    return text.replace(\"\\n\", \" \")\n",
    "\n",
    "\n",
    "clean_df={}\n",
    "for key, value in pdfdfs.items():\n",
    "    pdfdf =value\n",
    "# 각 행에 공백 제거 함수 적용\n",
    "    pdfdf['text'] = pdfdf['text'].apply(remove_whitespace)\n",
    "    # 정규표현식을 사용하여 패턴 제거\n",
    "    pdfdf = pdfdf.replace(to_replace=r'- \\d+ -', value='', regex=True)\n",
    "    pdfdf = pdfdf.replace(to_replace=r'·', value='', regex=True)\n",
    "    pdfdf = pdfdf.replace(to_replace=r'[^a-zA-Z0-9ㄱ-ㅎㅏ-ㅣ가-힣\\s]', value='', regex=True)\n",
    "    pdfdf['NoWhitespace'] = pdfdf['text'].str.replace(' ', '')\n",
    "    pdfdf = pdfdf[pdfdf['NoWhitespace'] != '']\n",
    "    pdfdf = pdfdf.drop(columns=['NoWhitespace'])\n",
    "    clean_df[key] = pdfdf\n"
   ]
  },
  {
   "cell_type": "code",
   "execution_count": 117,
   "metadata": {},
   "outputs": [],
   "source": [
    "for key, value in clean_df.items():\n",
    "    pdfdf =value\n",
    "    pdfdf.to_excel(f'연습({key}).xlsx',index=False)"
   ]
  },
  {
   "cell_type": "code",
   "execution_count": 86,
   "metadata": {},
   "outputs": [],
   "source": [
    "pdfdf.to_excel('6연습(페이지별).xlsx',index=False)"
   ]
  },
  {
   "cell_type": "code",
   "execution_count": 88,
   "metadata": {},
   "outputs": [
    {
     "name": "stdout",
     "output_type": "stream",
     "text": [
      "각 행의 최대 문자열 길이:\n",
      "0      206\n",
      "1      141\n",
      "2      177\n",
      "3       62\n",
      "4      537\n",
      "      ... \n",
      "126    523\n",
      "127    473\n",
      "128    566\n",
      "129    560\n",
      "130    530\n",
      "Length: 131, dtype: int64\n",
      "최대 문자열 길이: 1885\n"
     ]
    }
   ],
   "source": [
    "max_row_lengths = pdfdf.apply(lambda row: max(row.str.len()), axis=1)\n",
    "\n",
    "# 최대 문자열 길이 출력\n",
    "print(\"각 행의 최대 문자열 길이:\")\n",
    "print(max_row_lengths)\n",
    "print(\"최대 문자열 길이:\", max_row_lengths.max())"
   ]
  }
 ],
 "metadata": {
  "kernelspec": {
   "display_name": "base",
   "language": "python",
   "name": "python3"
  },
  "language_info": {
   "codemirror_mode": {
    "name": "ipython",
    "version": 3
   },
   "file_extension": ".py",
   "mimetype": "text/x-python",
   "name": "python",
   "nbconvert_exporter": "python",
   "pygments_lexer": "ipython3",
   "version": "3.9.12"
  }
 },
 "nbformat": 4,
 "nbformat_minor": 2
}
